{
  "cells": [
    {
      "cell_type": "code",
      "execution_count": 14,
      "metadata": {
        "colab": {
          "base_uri": "https://localhost:8080/"
        },
        "id": "i0U3jujfFMoZ",
        "outputId": "73b99bbe-33ea-4b49-d704-64d8b764703f"
      },
      "outputs": [
        {
          "name": "stdout",
          "output_type": "stream",
          "text": [
            "gpu up\n"
          ]
        }
      ],
      "source": [
        "from keras.datasets import mnist\n",
        "from sklearn.utils import shuffle\n",
        "import math\n",
        "import random\n",
        "import numpy as np\n",
        "from numpy.core.multiarray import dot\n",
        "\n",
        "\n",
        "import torch\n",
        "\n",
        "if torch.cuda.is_available():  \n",
        "  dev = \"cuda:0\" \n",
        "  print(\"gpu up\")\n",
        "else:  \n",
        "  dev = \"cpu\"  \n",
        "device = torch.device(dev)\n",
        "\n",
        "\n"
      ]
    },
    {
      "cell_type": "code",
      "execution_count": 16,
      "metadata": {
        "id": "WcNZkWwFFMol"
      },
      "outputs": [],
      "source": [
        "# Shuffling the dataset\n",
        "\n",
        "(train_X, train_y), (test_X, test_y) = mnist.load_data()\n",
        "\n",
        "\n",
        "train_X, train_y = shuffle(train_X[:1500], train_y[:1500])\n",
        "test_X, test_y = shuffle(test_X[:500], test_y[:500])\n",
        "\n",
        "\n",
        "# train_X, train_y = train_X[:500], train_y[:500]\n",
        "# test_X, test_y = test_X[:100], test_y[:100]\n",
        "\n",
        "arr = slicingArray(train_X, 4, 7)\n",
        "trainFeatureVec = normalize(arr)\n",
        "trainFeatureVec = arr\n",
        "trainFeatureVec = trainFeatureVec.reshape([*arr.shape[:-2], -1])\n",
        "trainFeatureVec = np.expand_dims(trainFeatureVec, axis=-1)\n",
        "\n",
        "\n",
        "# print(trainFeatureVec.shape)\n",
        "# trainFeatureVec = trainFeatureVec.tolist()\n",
        "\n",
        "\n",
        "arr = slicingArray(test_X, 4, 7)\n",
        "testFeatureVec = normalize(arr)\n",
        "testFeatureVec = arr\n",
        "testFeatureVec = testFeatureVec.reshape(*arr.shape[:-2], -1)\n",
        "testFeatureVec = np.expand_dims(testFeatureVec, axis=-1)\n",
        "\n",
        "\n",
        "train_y = (np.eye(10)[np.array(train_y)])\n",
        "test_y = (np.eye(10)[np.array(test_y)])\n",
        "train_y = np.expand_dims(train_y,axis=-1)\n",
        "test_y = np.expand_dims(test_y, axis=-1)\n"
      ]
    },
    {
      "cell_type": "code",
      "execution_count": 3,
      "metadata": {
        "id": "bqDHmtRdFMoh"
      },
      "outputs": [],
      "source": [
        "def centroid(arr):\n",
        "    moments = {'M00': arr.sum(axis=1).sum(),\n",
        "               'M01': (np.arange(start=1, stop=arr.shape[1] + 1, step=1) * arr.sum(axis=0).reshape(1, -1)).sum(),\n",
        "               'M10': (np.arange(start=1, stop=arr.shape[0] + 1, step=1) * arr.sum(axis=1).reshape(1, -1)).sum(),\n",
        "               'M11': 0}\n",
        "\n",
        "    x = moments['M10'] / moments['M00'] if moments['M00'] != 0 else 0\n",
        "    y = moments['M01'] / moments['M00'] if moments['M00'] != 0 else 0\n",
        "    return [x, y]\n",
        "\n",
        "threshold = 150  # for Binarize\n",
        "\n",
        "\n",
        "def Binarize(X):\n",
        "    X[X < threshold] = 0\n",
        "    X[X >= threshold] = 1\n",
        "    return X\n",
        "\n",
        "\n",
        "# train_X = Binarize(train_X)\n",
        "# test_X = Binarize(test_X)\n",
        "\n",
        "\n",
        "def normalize(X):\n",
        "    mx = np.max(X)\n",
        "    return X/mx\n",
        "\n",
        "\n",
        "def imageWin(trainx, r, c):\n",
        "    temp = []\n",
        "    for i in range(0, int(trainx.shape[0]), r):\n",
        "        for j in range(0, int(trainx.shape[1]), c):\n",
        "            temp.append(centroid(trainx[i:i+r, j:j+c]))\n",
        "    return np.array(temp)\n",
        "\n",
        "\n",
        "def slicingArray(trainX, r, c):\n",
        "    featureVector = []\n",
        "    for trainx in trainX:\n",
        "        featureVector.append(imageWin(trainx, r, c))\n",
        "    return np.array(featureVector)\n"
      ]
    },
    {
      "cell_type": "code",
      "execution_count": 5,
      "metadata": {
        "id": "t5Fsg5_EFMom"
      },
      "outputs": [],
      "source": [
        "# Some Fundamental Functions\n",
        "def listXlist(l1: list, l2: list):\n",
        "    res = [[0 for i in range(len(l2[0]))] for j in range(len(l1))]\n",
        "    # print(len(l1),len(l1[0]),\" \",len(l2),len(l2[0]))\n",
        "    for i in range(len(l1)):\n",
        "        for j in range(len(l2[0])):\n",
        "            for k in range(len(l2)):\n",
        "                res[i][j] += l1[i][k] * l2[k][j]\n",
        "    return res\n",
        "\n",
        "\n",
        "def listMINUSlist(l1: list, l2: list):\n",
        "    res = [[0 for i in range(len(l2[0]))] for j in range(len(l2))]\n",
        "    for i in range(len(l2)):\n",
        "        for j in range(len(l1[0])):\n",
        "            res[i][j] = l1[i][j] - l2[i][j]\n",
        "    return res\n",
        "\n",
        "\n",
        "def listSquare(l: list):\n",
        "    res = []\n",
        "    for i in range(len(l)):\n",
        "        res.append([l[i]**2])\n",
        "    return res\n",
        "\n",
        "\n",
        "def mean(k: list):\n",
        "    return sum([i[0] for i in k]) / len(k)\n",
        "\n",
        "\n",
        "def get_label(vector: np.array):\n",
        "    labels = []\n",
        "    for i in range(len(vector)):\n",
        "        mx = 0\n",
        "        idx = 0\n",
        "        for j in range(len(vector[0])):\n",
        "            if(vector[i][j] > mx):\n",
        "                mx = vector[i][j]\n",
        "                idx = j\n",
        "        labels.append(idx)\n",
        "    return np.array(labels)\n",
        "\n",
        "\n",
        "def normalizeOut(vector: np.array):\n",
        "    mx = vector[get_label(vector)]\n",
        "    vector = [vector[i]/mx for i in range(len(vector))]\n",
        "    return vector\n",
        "\n",
        "\n",
        "def accuracy(target: np.array, predictions: np.array):\n",
        "    trueValues = get_label(target)\n",
        "    preds = get_label(predictions)\n",
        "    cnt = 0\n",
        "    for i in range(len(trueValues)):\n",
        "        if trueValues[i] == preds[i]:\n",
        "            cnt += 1\n",
        "\n",
        "    return cnt / float(len(trueValues)) * 100.0\n",
        "\n",
        "def sigmoid(x): return 1/(1+np.exp(-x))"
      ]
    },
    {
      "cell_type": "code",
      "execution_count": 6,
      "metadata": {
        "id": "ah34DBwpumbV"
      },
      "outputs": [],
      "source": [
        "# Fully connected NN\n",
        "class NN:\n",
        "    def __init__(self, m: int, n: np.array, activation: str, e: int, lr: float, outShape: int):\n",
        "        self.neurons = n                                                    # Neurons List to specify number of neurons in each layer\n",
        "        self.neuronsListBefore = []                                         # Net values\n",
        "        self.neuronsListAfter = []                                          # Neurons output values\n",
        "        self.layers = m                                                     # Number of layers\n",
        "        self.weights = dict([(x, [0]) for x in range(self.layers + 1)])     # Dictionary to save weights of each layer\n",
        "        self.bias = dict([(x, [0]) for x in range(self.layers + 1)])        # Dictionary to save bias of each layer\n",
        "        self.gradsWeights = []                                              # Dictionary to save weights gradients of each layer\n",
        "        self.gradsBias = []                                                 # Dictionary to save bias gradients of each layer\n",
        "        self.activationFn = activation                                      # String to specify layers' activation function\n",
        "        self.learning_rate = lr                                         \n",
        "        self.epochs = e\n",
        "        self.outputShape = outShape                                         # Number of neurons in output layer\n",
        "\n",
        "    # MSE\n",
        "    def __costFunc(self, y, preds):\n",
        "        return 0.5 * listSquare(listMINUSlist(y, preds)) /len(y)\n",
        "\n",
        "    def __activation(self, x: float, act: str):\n",
        "       \n",
        "        if act == \"sigmoid\":\n",
        "            return sigmoid(x)\n",
        "        if act == \"tanh\":\n",
        "            return np.tanh(x)\n",
        "        if act == \"linear\":\n",
        "            return x\n",
        "        if act==\"relu\":\n",
        "            return np.maximum(x*0, x),\n",
        "        if act==\"leaky_relu\":\n",
        "            return np.maximum(0.1 * x, x)\n",
        "        \n",
        "    def __derivatives(self, out: float, act: str):\n",
        "        if act == \"sigmoid\":\n",
        "            return sigmoid(out) * (1-sigmoid(out))\n",
        "        if act==\"tanh\":\n",
        "            return 1 - (out ** 2)\n",
        "        if act==\"linear\":\n",
        "            return np.ones(out.shape)\n",
        "        if act==\"relu\":\n",
        "            re = np.ones(out.shape)\n",
        "            re[out<0] = out[out<0] * 0\n",
        "            return re\n",
        "        if act==\"leaky_relu\":\n",
        "            re = np.ones(out.shape)\n",
        "            re[out<0] = out[out<0] * 0.1\n",
        "            return re\n",
        "\n",
        "    def __calcMSE(self,pred,y):\n",
        "      pred= pred.squeeze(-1)\n",
        "      y = y.squeeze(-1)\n",
        "      return np.mean(((y-pred)* (y-pred)).sum(axis=-1))\n",
        "\n",
        "    def __initializeWeightsBias(self, input: np.array):\n",
        "        self.weights[0] = np.array([[random.random() for i in range(len(input))]\n",
        "                           for j in range(self.neurons[0])],dtype=np.double)\n",
        "        self.bias[0] = np.array([[random.random()]\n",
        "                        for i in range(self.neurons[0])],dtype=np.double)\n",
        "\n",
        "        for i in range(1, self.layers):\n",
        "            self.weights[i] = np.array([[random.random() for i in range(\n",
        "                self.neurons[i - 1])] for j in range(self.neurons[i])],dtype=np.double)\n",
        "            self.bias[i] = np.array([[random.random()]\n",
        "                            for i in range(self.neurons[i])],dtype=np.double)\n",
        "\n",
        "        self.weights[self.layers] = np.array([[random.random() for i in range(\n",
        "            self.neurons[self.layers - 1])] for j in range(self.outputShape)],dtype=np.double)\n",
        "        self.bias[self.layers] = np.array([[random.random()]\n",
        "                                  for i in range(self.outputShape)],dtype=np.double)\n",
        "\n",
        "    def __zero_grads(self, input: list):\n",
        "        self.gradsWeights = dict([(x, [0]) for x in range(self.layers + 1)])\n",
        "        self.gradsBias = dict([(x, [0]) for x in range(self.layers + 1)])\n",
        "        self.gradsWeights[0] = np.array([[0 for i in range(len(input))]\n",
        "                                for j in range(self.neurons[0])],dtype=np.double)\n",
        "        self.gradsBias[0] = np.array([[0] for i in range(self.neurons[0])],dtype=np.double)\n",
        "\n",
        "        for i in range(1, self.layers):\n",
        "            self.gradsWeights[i] = np.array([\n",
        "                [0 for _ in range(self.neurons[i - 1])] for j in range(self.neurons[i])],dtype=np.double)\n",
        "            self.gradsBias[i] = np.array([[0] for i in range(self.neurons[i])],dtype=np.double)\n",
        "\n",
        "        self.gradsWeights[self.layers] = np.array([[0 for i in range(\n",
        "            self.neurons[self.layers - 1])] for j in range(self.outputShape)],dtype=np.double)\n",
        "        self.gradsBias[self.layers] = np.array([[0] for i in range(self.outputShape)],dtype=np.double)\n",
        "\n",
        "    def __feedForward(self, input: np.array, layerIdx: int) -> np.array:\n",
        "        out = []\n",
        "        x = []\n",
        "        x = (self.weights[layerIdx]@ input) + self.bias[layerIdx]\n",
        "        self.neuronsListBefore.append(x)\n",
        "        out = self.__activation(x, self.activationFn)\n",
        "        self.neuronsListAfter.append(out)\n",
        "        return out\n",
        "\n",
        "    def __propagate(self, x: np.array):\n",
        "        self.neuronsListAfter.append(x)\n",
        "        out = self.__feedForward(x, 0)\n",
        "        for i in range(1, self.layers + 1):\n",
        "            out = self.__feedForward(out, i)\n",
        "        return out\n",
        "\n",
        "    def __backPropagation(self, target: np.array, outputLayer: np.array):\n",
        "        self.deltas = dict([(x, [0]) for x in range(self.layers + 1)])\n",
        "        self.deltas[self.layers] = ( -1* (target-outputLayer) )* (self.__derivatives(\n",
        "                self.neuronsListBefore[self.layers], self.activationFn))\n",
        "        self.gradsBias[self.layers]= self.deltas[self.layers]\n",
        "        self.gradsWeights[self.layers] = self.deltas[self.layers] @ self.neuronsListAfter[self.layers].T\n",
        "       \n",
        "\n",
        "        for layer in reversed(range(0, self.layers)):\n",
        "\n",
        "            # (neuron, 1) (neuron, neuronsBefore ) -> (neurons,Before)\n",
        "            self.deltas[layer] = (self.weights[layer + 1].T @ self.deltas[layer+1] )* self.__derivatives(\n",
        "                    self.neuronsListBefore[layer], self.activationFn)\n",
        "            \n",
        "            self.gradsBias[layer] = self.deltas[layer]\n",
        "            self.gradsWeights[layer] = self.deltas[layer] @ self.neuronsListAfter[layer].T\n",
        "            \n",
        "\n",
        "    def __updateWeightsBias(self):\n",
        "        for layer in range(self.layers + 1):\n",
        "            self.bias[layer] -= self.learning_rate * self.gradsBias[layer]\n",
        "            self.weights[layer] -= self.learning_rate * self.gradsWeights[layer] \n",
        "\n",
        "    def fit(self, trainX: np.array, trainY: np.array):\n",
        "        self.__initializeWeightsBias(trainX[0])\n",
        "        self.__zero_grads(trainX[0])\n",
        "        errs = []\n",
        "        for epoch in range(self.epochs):\n",
        "            print(\"epoch: \", epoch)\n",
        "            outs= []\n",
        "            for i in range(len(trainX)):\n",
        "                self.neuronsListBefore = []\n",
        "                self.neuronsListAfter = []\n",
        "                outputLayer = self.__propagate(trainX[i])\n",
        "                outs.append(outputLayer.tolist())\n",
        "                self.__backPropagation(trainY[i], outputLayer)\n",
        "                self.__updateWeightsBias()\n",
        "                self.__zero_grads(trainX[i])\n",
        "            errs.append(self.__calcMSE(np.array(outs),trainY))\n",
        "        return errs\n",
        "\n",
        "    def predict(self, testX: np.array):\n",
        "        preds = []\n",
        "        for i in range(len(testX)):\n",
        "            preds.append(self.__propagate(testX[i]))\n",
        "        return preds\n"
      ]
    },
    {
      "cell_type": "code",
      "execution_count": 20,
      "metadata": {
        "id": "FAEZ4_a-FMoq"
      },
      "outputs": [
        {
          "ename": "TypeError",
          "evalue": "float() argument must be a string or a number, not 'StandardScaler'",
          "output_type": "error",
          "traceback": [
            "\u001b[1;31m---------------------------------------------------------------------------\u001b[0m",
            "\u001b[1;31mTypeError\u001b[0m                                 Traceback (most recent call last)",
            "\u001b[1;32m~\\AppData\\Local\\Temp/ipykernel_30324/2738390505.py\u001b[0m in \u001b[0;36m<module>\u001b[1;34m\u001b[0m\n\u001b[0;32m      1\u001b[0m \u001b[0mnn\u001b[0m \u001b[1;33m=\u001b[0m \u001b[0mNN\u001b[0m\u001b[1;33m(\u001b[0m\u001b[1;36m2\u001b[0m\u001b[1;33m,\u001b[0m \u001b[1;33m[\u001b[0m\u001b[1;36m56\u001b[0m\u001b[1;33m,\u001b[0m \u001b[1;36m16\u001b[0m\u001b[1;33m]\u001b[0m\u001b[1;33m,\u001b[0m \u001b[1;34m'sigmoid'\u001b[0m\u001b[1;33m,\u001b[0m \u001b[1;36m100\u001b[0m\u001b[1;33m,\u001b[0m \u001b[1;36m0.003\u001b[0m\u001b[1;33m,\u001b[0m \u001b[1;36m10\u001b[0m\u001b[1;33m)\u001b[0m\u001b[1;33m\u001b[0m\u001b[1;33m\u001b[0m\u001b[0m\n\u001b[1;32m----> 2\u001b[1;33m \u001b[0mnn\u001b[0m\u001b[1;33m.\u001b[0m\u001b[0mfit\u001b[0m\u001b[1;33m(\u001b[0m\u001b[0mnp\u001b[0m\u001b[1;33m.\u001b[0m\u001b[0marray\u001b[0m\u001b[1;33m(\u001b[0m\u001b[0mtrainFeatureVec\u001b[0m\u001b[1;33m,\u001b[0m\u001b[0mdtype\u001b[0m\u001b[1;33m=\u001b[0m\u001b[0mnp\u001b[0m\u001b[1;33m.\u001b[0m\u001b[0mdouble\u001b[0m\u001b[1;33m)\u001b[0m\u001b[1;33m,\u001b[0m \u001b[0mnp\u001b[0m\u001b[1;33m.\u001b[0m\u001b[0marray\u001b[0m\u001b[1;33m(\u001b[0m\u001b[0mtrain_y\u001b[0m\u001b[1;33m)\u001b[0m\u001b[1;33m)\u001b[0m\u001b[1;33m\u001b[0m\u001b[1;33m\u001b[0m\u001b[0m\n\u001b[0m",
            "\u001b[1;31mTypeError\u001b[0m: float() argument must be a string or a number, not 'StandardScaler'"
          ]
        }
      ],
      "source": [
        "nn = NN(2, [56, 16], 'sigmoid', 100, 0.003, 10)\n",
        "\n",
        "errs = nn.fit(np.array(trainFeatureVec,dtype=np.double), np.array(train_y))"
      ]
    },
    {
      "cell_type": "code",
      "execution_count": 12,
      "metadata": {},
      "outputs": [
        {
          "name": "stdout",
          "output_type": "stream",
          "text": [
            "[8.992172945843958, 8.991643227722813, 8.9910019919409, 8.990201715623773, 8.989160487906291, 8.987722562205112, 8.985547227443922, 8.981705336251082, 8.972340664908018, 8.876877442994381, 8.242251377059317, 8.207867147380155, 8.206536968547862, 8.20543568622867, 8.204029490264542, 8.202023580214176, 8.198803798177966, 8.192369161287848, 8.168531037917973, 7.687141690027643, 7.407943300007213, 7.403179114206905, 7.397893729918127, 7.384269323413612, 7.1373329593234525, 6.590856126554943, 6.571529613009467, 6.401403210086733, 5.783244556667121, 5.76808518076942, 5.7671040573812835, 5.766678315342159, 5.76630434039467, 5.765877595921404, 5.765341346134113, 5.7646272463401536, 5.763617734208768, 5.762071048249105, 5.759385613369498, 5.753510590424511, 5.728948436082863, 5.2175769023473455, 4.954412574173858, 4.952256421693551, 4.951960609547009, 4.951874468545752, 4.951831116107718, 4.951797999062893, 4.9517669515737825, 4.95173561035282, 4.951703190499914, 4.951669365958438, 4.951633945161368, 4.951596770967046, 4.9515576875291805, 4.9515165277687, 4.951473107179595, 4.95142721938233, 4.951378631839345, 4.951327081082685, 4.951272267078098, 4.951213846398822, 4.951151423839331, 4.951084542001588, 4.951012668235679, 4.950935178098384, 4.950851334178949, 4.950760258684167, 4.950660897500565, 4.950551972438861, 4.950431916815583, 4.950298787100445, 4.950150139468312, 4.949982853687113, 4.949792875893705, 4.949574832691788, 4.949321434069568, 4.9490225158415795, 4.9486634377088645, 4.948222264267639, 4.947664488365349, 4.946932360562218, 4.945921042155558, 4.944417583487983, 4.941910860851818, 4.936774723197829, 4.919160725067828, 4.536018213038799, 4.1754787184827, 4.172722258868817, 4.172318523483354, 4.172013624074711, 4.17165847455935, 4.171209439765228, 4.1706187115637645, 4.169805415715791, 4.1686127847358145, 4.166690473787976, 4.163059864152998, 4.153495601724443]\n"
          ]
        }
      ],
      "source": [
        "print(errs)"
      ]
    },
    {
      "cell_type": "code",
      "execution_count": 11,
      "metadata": {
        "id": "H29b8Z8ud5Qy"
      },
      "outputs": [
        {
          "name": "stdout",
          "output_type": "stream",
          "text": [
            "Accuracy:  8.6 %\n"
          ]
        }
      ],
      "source": [
        "testpreds = nn.predict(np.array(testFeatureVec,dtype=np.double))\n",
        "# print(get_label(np.array(test_y[:6])))\n",
        "print(\"Accuracy: \", accuracy(test_y, testpreds), \"%\")"
      ]
    },
    {
      "cell_type": "code",
      "execution_count": 10,
      "metadata": {},
      "outputs": [
        {
          "name": "stdout",
          "output_type": "stream",
          "text": [
            "[6 6 6 6 6 6 6 6 6 6 6 6 6 6 6 6 6 6 6 6 6 6 6 6 6 6 6 6 6 6 6 6 6 6 6 6 6\n",
            " 6 6 6 6 6 6 6 6 6 6 6 6 6 6 6 6 6 6 6 6 6 6 6 6 6 6 6 6 6 6 6 6 6 6 6 6 6\n",
            " 6 6 6 6 6 6 6 6 6 6 6 6 6 6 6 6 6 6 6 6 6 6 6 6 6 6 6 6 6 6 6 6 6 6 6 6 6\n",
            " 6 6 6 6 6 6 6 6 6 6 6 6 6 6 6 6 6 6 6 6 6 6 6 6 6 6 6 6 6 6 6 6 6 6 6 6 6\n",
            " 6 6 6 6 6 6 6 6 6 6 6 6 6 6 6 6 6 6 6 6 6 6 6 6 6 6 6 6 6 6 6 6 6 6 6 6 6\n",
            " 6 6 6 6 6 6 6 6 6 6 6 6 6 6 6 6 6 6 6 6 6 6 6 6 6 6 6 6 6 6 6 6 6 6 6 6 6\n",
            " 6 6 6 6 6 6 6 6 6 6 6 6 6 6 6 6 6 6 6 6 6 6 6 6 6 6 6 6 6 6 6 6 6 6 6 6 6\n",
            " 6 6 6 6 6 6 6 6 6 6 6 6 6 6 6 6 6 6 6 6 6 6 6 6 6 6 6 6 6 6 6 6 6 6 6 6 6\n",
            " 6 6 6 6 6 6 6 6 6 6 6 6 6 6 6 6 6 6 6 6 6 6 6 6 6 6 6 6 6 6 6 6 6 6 6 6 6\n",
            " 6 6 6 6 6 6 6 6 6 6 6 6 6 6 6 6 6 6 6 6 6 6 6 6 6 6 6 6 6 6 6 6 6 6 6 6 6\n",
            " 6 6 6 6 6 6 6 6 6 6 6 6 6 6 6 6 6 6 6 6 6 6 6 6 6 6 6 6 6 6 6 6 6 6 6 6 6\n",
            " 6 6 6 6 6 6 6 6 6 6 6 6 6 6 6 6 6 6 6 6 6 6 6 6 6 6 6 6 6 6 6 6 6 6 6 6 6\n",
            " 6 6 6 6 6 6 6 6 6 6 6 6 6 6 6 6 6 6 6 6 6 6 6 6 6 6 6 6 6 6 6 6 6 6 6 6 6\n",
            " 6 6 6 6 6 6 6 6 6 6 6 6 6 6 6 6 6 6 6]\n"
          ]
        }
      ],
      "source": [
        "print(get_label(testpreds))"
      ]
    }
  ],
  "metadata": {
    "colab": {
      "collapsed_sections": [],
      "name": "npNN.ipynb",
      "provenance": []
    },
    "interpreter": {
      "hash": "b3ba2566441a7c06988d0923437866b63cedc61552a5af99d1f4fb67d367b25f"
    },
    "kernelspec": {
      "display_name": "Python 3.8.8 ('base')",
      "language": "python",
      "name": "python3"
    },
    "language_info": {
      "codemirror_mode": {
        "name": "ipython",
        "version": 3
      },
      "file_extension": ".py",
      "mimetype": "text/x-python",
      "name": "python",
      "nbconvert_exporter": "python",
      "pygments_lexer": "ipython3",
      "version": "3.8.12"
    },
    "orig_nbformat": 4
  },
  "nbformat": 4,
  "nbformat_minor": 0
}
